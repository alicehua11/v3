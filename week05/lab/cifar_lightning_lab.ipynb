{
 "cells": [
  {
   "cell_type": "markdown",
   "id": "e43bda15",
   "metadata": {},
   "source": [
    "### Must install Lightning"
   ]
  },
  {
   "cell_type": "code",
   "execution_count": null,
   "id": "b79ea239",
   "metadata": {},
   "outputs": [],
   "source": [
    "!pip3 install lightning-bolts --quiet\n",
    "!pip3 install pytorch-lightning --quiet"
   ]
  },
  {
   "cell_type": "code",
   "execution_count": null,
   "id": "5e6d27c8",
   "metadata": {},
   "outputs": [],
   "source": [
    "from torchvision import transforms\n",
    "from pl_bolts.transforms.dataset_normalizations import cifar10_normalization\n",
    "from torchvision.models.resnet import resnet18\n",
    "import pytorch_lightning as pl\n",
    "from pytorch_lightning import Trainer, LightningModule\n",
    "import torch.nn as nn\n",
    "import torch\n",
    "from torch.nn import functional as F\n",
    "from torch.utils.data import DataLoader, random_split\n",
    "from torchvision.datasets import CIFAR10"
   ]
  },
  {
   "cell_type": "code",
   "execution_count": null,
   "id": "e67630c1",
   "metadata": {},
   "outputs": [],
   "source": [
    "from pytorch_lightning.metrics.functional import accuracy\n",
    "from pytorch_lightning.callbacks import Callback\n",
    "from pytorch_lightning.callbacks.early_stopping import EarlyStopping\n",
    "from pytorch_lightning.callbacks import ModelCheckpoint"
   ]
  },
  {
   "cell_type": "code",
   "execution_count": null,
   "id": "9ae255cc",
   "metadata": {},
   "outputs": [],
   "source": [
    "EPOCHS = 200\n",
    "LR = 0.1\n",
    "MOMENTUM = 0.9\n",
    "WEIGHT_DECAY = 5e-4\n",
    "PRINT_FREQ = 50\n",
    "TRAIN_BATCH=128\n",
    "VAL_BATCH=128"
   ]
  },
  {
   "cell_type": "code",
   "execution_count": null,
   "id": "bd23499b",
   "metadata": {},
   "outputs": [],
   "source": [
    "GPU = 0"
   ]
  },
  {
   "cell_type": "markdown",
   "id": "ebf682bd",
   "metadata": {},
   "source": [
    "### fill in the transform statements below"
   ]
  },
  {
   "cell_type": "code",
   "execution_count": null,
   "id": "5d371d08",
   "metadata": {},
   "outputs": [],
   "source": [
    "class CIFAR10DataModule(pl.LightningDataModule):\n",
    "    def __init__(self, train_batch_size, val_batch_size, data_dir: str = './'):\n",
    "        super().__init__()\n",
    "        self.data_dir = data_dir\n",
    "        self.train_batch_size = train_batch_size\n",
    "        self.val_batch_size = val_batch_size\n",
    "        \n",
    "        self.transform_train = ???\n",
    "        self.transform_val = ???\n",
    "        \n",
    "        self.dims = (3, 32, 32)\n",
    "        self.num_classes = 10\n",
    "\n",
    "    def prepare_data(self):\n",
    "        # download \n",
    "        CIFAR10(self.data_dir, train=True, download=True)\n",
    "        CIFAR10(self.data_dir, train=False, download=True)\n",
    "\n",
    "    def setup(self, stage=None):\n",
    "        # Assign train/val datasets for use in dataloaders\n",
    "        if stage == 'fit' or stage is None:\n",
    "#            cifar_full = CIFAR10(self.data_dir, train=True, transform=self.transform)\n",
    "#            self.cifar_train, self.cifar_val = random_split(cifar_full, [45000, 5000])\n",
    "            self.cifar_train = CIFAR10(self.data_dir, train=True, transform=self.transform_train)\n",
    "            self.cifar_val = CIFAR10(self.data_dir, train=False, transform=self.transform_val)\n",
    "\n",
    "        # Assign test dataset for use in dataloader(s)\n",
    "        if stage == 'test' or stage is None:\n",
    "            self.cifar_test = CIFAR10(self.data_dir, train=False, transform=self.transform_val)\n",
    "\n",
    "    def train_dataloader(self):\n",
    "        return DataLoader(self.cifar_train, batch_size=self.train_batch_size, num_workers = 2, shuffle=True)\n",
    "\n",
    "    def val_dataloader(self):\n",
    "        return DataLoader(self.cifar_val, batch_size=self.val_batch_size, num_workers = 2)\n",
    "\n",
    "    def test_dataloader(self):\n",
    "        return DataLoader(self.cifar_test, batch_size=self.batch_size, num_workers = 2)"
   ]
  },
  {
   "cell_type": "code",
   "execution_count": null,
   "id": "ba923c18",
   "metadata": {},
   "outputs": [],
   "source": [
    "dm = CIFAR10DataModule(TRAIN_BATCH, VAL_BATCH)\n",
    "dm.prepare_data()\n",
    "dm.setup()\n"
   ]
  },
  {
   "cell_type": "code",
   "execution_count": null,
   "id": "360a6795",
   "metadata": {},
   "outputs": [],
   "source": [
    "MODEL_CKPT_PATH = 'model/'\n",
    "MODEL_CKPT = 'model/model-{epoch:02d}-{val_loss:.2f}'\n",
    "\n",
    "checkpoint_callback = ModelCheckpoint(\n",
    "    monitor='val_loss',\n",
    "    filename=MODEL_CKPT ,\n",
    "    save_top_k=3,\n",
    "    mode='min')"
   ]
  },
  {
   "cell_type": "code",
   "execution_count": null,
   "id": "261c6d84",
   "metadata": {},
   "outputs": [],
   "source": [
    "# Samples required by the custom ImagePredictionLogger callback to log image predictions.\n",
    "val_samples = next(iter(dm.val_dataloader()))\n",
    "val_imgs, val_labels = val_samples[0], val_samples[1]\n",
    "val_imgs.shape, val_labels.shape"
   ]
  },
  {
   "cell_type": "code",
   "execution_count": null,
   "id": "5d4af0f4",
   "metadata": {},
   "outputs": [],
   "source": [
    "early_stop_callback = EarlyStopping(\n",
    "   monitor='val_loss',\n",
    "   patience=3,\n",
    "   verbose=False,\n",
    "   mode='min'\n",
    ")"
   ]
  },
  {
   "cell_type": "markdown",
   "id": "a4b5fcb4",
   "metadata": {},
   "source": [
    "### Complete the training, validation, and optimizer methods below"
   ]
  },
  {
   "cell_type": "code",
   "execution_count": null,
   "id": "267ab69c",
   "metadata": {},
   "outputs": [],
   "source": [
    "class LitResnet18(LightningModule):\n",
    "    def __init__(self, learning_rate, momentum, weight_decay):\n",
    "        super().__init__()\n",
    "        self.nn = resnet18(pretrained = False, progress  = True)\n",
    "        self.nn.fc = nn.Linear(self.nn.fc.in_features, 10)\n",
    "        self.lr = learning_rate\n",
    "        self.momentum = momentum\n",
    "        self.weight_decay = weight_decay\n",
    "        self.criterion = nn.CrossEntropyLoss().cuda(GPU)\n",
    "    \n",
    "    def forward(self, x):\n",
    "        return self.nn.forward(x)\n",
    "    \n",
    "    def training_step(self, batch, batch_idx):\n",
    "        x,y = batch\n",
    "        logits = self.nn(x)\n",
    "        loss = self.criterion(logits, y)\n",
    "        # training metrics\n",
    "        preds = torch.argmax(logits, dim=1)\n",
    "        acc = accuracy(preds, y)\n",
    "        self.log('train_loss', loss, on_step=True, on_epoch=True, logger=False)\n",
    "        self.log('train_acc', acc, on_step=True, on_epoch=True, logger=False)\n",
    "        if batch_idx % PRINT_FREQ == 0:\n",
    "          print(\"train step! \" + str(batch_idx) + \" train loss: \" + str(loss.item()) + \" train acc \" + str(acc.item()))        \n",
    "        return loss     \n",
    "        \n",
    "        \n",
    "    def validation_step(self, batch, batch_idx):\n",
    "        x,y = batch\n",
    "        logits = self.nn(x)\n",
    "        loss = self.criterion(logits, y) \n",
    "        # validation metrics\n",
    "        preds = torch.argmax(logits, dim=1)\n",
    "        acc = accuracy(preds, y)\n",
    "        self.log('val_loss', loss, prog_bar=True)\n",
    "        self.log('val_acc', acc, prog_bar=True)\n",
    "        if batch_idx % PRINT_FREQ == 0:\n",
    "          print(\"val step! \" + str(batch_idx) + \" val loss: \" + str(loss.item()) + \" val acc \" + str(acc.item()))\n",
    "        return loss  \n",
    "        \n",
    "        \n",
    "        \n",
    "    def configure_optimizers(self):\n",
    "        optimizer = torch.optim.SGD(model.parameters(), self.lr, momentum=self.momentum, weight_decay=self.weight_decay)\n",
    "        return optimizer"
   ]
  },
  {
   "cell_type": "code",
   "execution_count": null,
   "id": "57d9e6ac",
   "metadata": {},
   "outputs": [],
   "source": [
    "# model = resnet18(pretrained = False, progress  = True)\n",
    "model = LitResnet18(LR, MOMENTUM, WEIGHT_DECAY)\n"
   ]
  },
  {
   "cell_type": "code",
   "execution_count": null,
   "id": "efa89962",
   "metadata": {},
   "outputs": [],
   "source": [
    "# Initialize a trainer\n",
    "trainer = pl.Trainer(max_epochs=EPOCHS,\n",
    "                     progress_bar_refresh_rate=20, \n",
    "                     gpus=1, \n",
    "                     logger=None,\n",
    "                     callbacks=[early_stop_callback],\n",
    "                     checkpoint_callback=checkpoint_callback)"
   ]
  },
  {
   "cell_type": "code",
   "execution_count": null,
   "id": "d19630c1",
   "metadata": {},
   "outputs": [],
   "source": [
    "trainer.fit(model, dm)"
   ]
  }
 ],
 "metadata": {
  "kernelspec": {
   "display_name": "Python 3",
   "language": "python",
   "name": "python3"
  },
  "language_info": {
   "codemirror_mode": {
    "name": "ipython",
    "version": 3
   },
   "file_extension": ".py",
   "mimetype": "text/x-python",
   "name": "python",
   "nbconvert_exporter": "python",
   "pygments_lexer": "ipython3",
   "version": "3.6.9"
  }
 },
 "nbformat": 4,
 "nbformat_minor": 5
}
